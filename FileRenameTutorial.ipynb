{
 "cells": [
  {
   "cell_type": "code",
   "execution_count": 2,
   "id": "3ff3927c",
   "metadata": {},
   "outputs": [],
   "source": [
    "import os"
   ]
  },
  {
   "cell_type": "code",
   "execution_count": 15,
   "id": "971f32e9",
   "metadata": {},
   "outputs": [],
   "source": [
    "os.chdir('/Users/joe/Temp')"
   ]
  },
  {
   "cell_type": "code",
   "execution_count": 16,
   "id": "88c1c397",
   "metadata": {},
   "outputs": [
    {
     "name": "stdout",
     "output_type": "stream",
     "text": [
      "/Users/joe/Temp\n"
     ]
    }
   ],
   "source": [
    "print(os.getcwd())"
   ]
  },
  {
   "cell_type": "code",
   "execution_count": 17,
   "id": "6220825c",
   "metadata": {},
   "outputs": [
    {
     "name": "stdout",
     "output_type": "stream",
     "text": [
      "Venus - Our solar system - #3.txt\n",
      "Mercury - Our solar system - #2.txt\n",
      "Mars - Our solar system - #5.txt\n",
      "Pluto - Our solar system - #10.txt\n",
      "Neptune - Our solar system - #8.txt\n",
      "Jupiter - Our solar system - #6.txt\n",
      "Uranus - Our solar system - #9.txt\n",
      "Earth - Our solar system - #4.txt\n",
      "Saturn - Our solar system - #7.txt\n",
      "The Sun - Our solar system - #1.txt\n"
     ]
    }
   ],
   "source": [
    "for f in os.listdir():\n",
    "    print(f)"
   ]
  },
  {
   "cell_type": "code",
   "execution_count": 18,
   "id": "aca6b67f",
   "metadata": {},
   "outputs": [
    {
     "name": "stdout",
     "output_type": "stream",
     "text": [
      "('Venus - Our solar system - #3', '.txt')\n",
      "('Mercury - Our solar system - #2', '.txt')\n",
      "('Mars - Our solar system - #5', '.txt')\n",
      "('Pluto - Our solar system - #10', '.txt')\n",
      "('Neptune - Our solar system - #8', '.txt')\n",
      "('Jupiter - Our solar system - #6', '.txt')\n",
      "('Uranus - Our solar system - #9', '.txt')\n",
      "('Earth - Our solar system - #4', '.txt')\n",
      "('Saturn - Our solar system - #7', '.txt')\n",
      "('The Sun - Our solar system - #1', '.txt')\n"
     ]
    }
   ],
   "source": [
    "for f in os.listdir():\n",
    "    print(os.path.splitext(f))"
   ]
  },
  {
   "cell_type": "code",
   "execution_count": 19,
   "id": "081e470a",
   "metadata": {},
   "outputs": [
    {
     "name": "stdout",
     "output_type": "stream",
     "text": [
      "Venus - Our solar system - #3\n",
      "Mercury - Our solar system - #2\n",
      "Mars - Our solar system - #5\n",
      "Pluto - Our solar system - #10\n",
      "Neptune - Our solar system - #8\n",
      "Jupiter - Our solar system - #6\n",
      "Uranus - Our solar system - #9\n",
      "Earth - Our solar system - #4\n",
      "Saturn - Our solar system - #7\n",
      "The Sun - Our solar system - #1\n"
     ]
    }
   ],
   "source": [
    "for f in os.listdir():\n",
    "    file_name, file_ext =(os.path.splitext(f))\n",
    "    print(file_name)"
   ]
  },
  {
   "cell_type": "code",
   "execution_count": 20,
   "id": "02fefdc2",
   "metadata": {},
   "outputs": [
    {
     "name": "stdout",
     "output_type": "stream",
     "text": [
      "['Venus ', ' Our solar system ', ' #3']\n",
      "['Mercury ', ' Our solar system ', ' #2']\n",
      "['Mars ', ' Our solar system ', ' #5']\n",
      "['Pluto ', ' Our solar system ', ' #10']\n",
      "['Neptune ', ' Our solar system ', ' #8']\n",
      "['Jupiter ', ' Our solar system ', ' #6']\n",
      "['Uranus ', ' Our solar system ', ' #9']\n",
      "['Earth ', ' Our solar system ', ' #4']\n",
      "['Saturn ', ' Our solar system ', ' #7']\n",
      "['The Sun ', ' Our solar system ', ' #1']\n"
     ]
    }
   ],
   "source": [
    "for f in os.listdir():\n",
    "    file_name, file_ext =(os.path.splitext(f))\n",
    "    print(file_name.split('-'))"
   ]
  },
  {
   "cell_type": "code",
   "execution_count": 21,
   "id": "4e20421b",
   "metadata": {},
   "outputs": [
    {
     "name": "stdout",
     "output_type": "stream",
     "text": [
      "Venus \n",
      "Mercury \n",
      "Mars \n",
      "Pluto \n",
      "Neptune \n",
      "Jupiter \n",
      "Uranus \n",
      "Earth \n",
      "Saturn \n",
      "The Sun \n"
     ]
    }
   ],
   "source": [
    "for f in os.listdir():\n",
    "    file_name, file_ext =(os.path.splitext(f))\n",
    "    f_title, f_course, f_num = file_name.split('-')\n",
    "    print(f_title)"
   ]
  },
  {
   "cell_type": "code",
   "execution_count": 22,
   "id": "f3ee8f69",
   "metadata": {},
   "outputs": [
    {
     "name": "stdout",
     "output_type": "stream",
     "text": [
      " Our solar system \n",
      " Our solar system \n",
      " Our solar system \n",
      " Our solar system \n",
      " Our solar system \n",
      " Our solar system \n",
      " Our solar system \n",
      " Our solar system \n",
      " Our solar system \n",
      " Our solar system \n"
     ]
    }
   ],
   "source": [
    "for f in os.listdir():\n",
    "    file_name, file_ext =(os.path.splitext(f))\n",
    "    f_title, f_course, f_num = file_name.split('-')\n",
    "    print(f_course)"
   ]
  },
  {
   "cell_type": "code",
   "execution_count": 23,
   "id": "b2d220b8",
   "metadata": {},
   "outputs": [
    {
     "name": "stdout",
     "output_type": "stream",
     "text": [
      " #3\n",
      " #2\n",
      " #5\n",
      " #10\n",
      " #8\n",
      " #6\n",
      " #9\n",
      " #4\n",
      " #7\n",
      " #1\n"
     ]
    }
   ],
   "source": [
    "for f in os.listdir():\n",
    "    file_name, file_ext =(os.path.splitext(f))\n",
    "    f_title, f_course, f_num = file_name.split('-')\n",
    "    print(f_num)"
   ]
  },
  {
   "cell_type": "code",
   "execution_count": 24,
   "id": "be5fa428",
   "metadata": {},
   "outputs": [
    {
     "name": "stdout",
     "output_type": "stream",
     "text": [
      " #3- Our solar system -Venus .txt\n",
      " #2- Our solar system -Mercury .txt\n",
      " #5- Our solar system -Mars .txt\n",
      " #10- Our solar system -Pluto .txt\n",
      " #8- Our solar system -Neptune .txt\n",
      " #6- Our solar system -Jupiter .txt\n",
      " #9- Our solar system -Uranus .txt\n",
      " #4- Our solar system -Earth .txt\n",
      " #7- Our solar system -Saturn .txt\n",
      " #1- Our solar system -The Sun .txt\n"
     ]
    }
   ],
   "source": [
    "for f in os.listdir():\n",
    "    file_name, file_ext =(os.path.splitext(f))\n",
    "    f_title, f_course, f_num = file_name.split('-')\n",
    "    print('{}-{}-{}{}'.format(f_num, f_course, f_title, file_ext))"
   ]
  },
  {
   "cell_type": "code",
   "execution_count": 25,
   "id": "eee8bc68",
   "metadata": {},
   "outputs": [
    {
     "name": "stdout",
     "output_type": "stream",
     "text": [
      "#3-Our solar system-Venus.txt\n",
      "#2-Our solar system-Mercury.txt\n",
      "#5-Our solar system-Mars.txt\n",
      "#10-Our solar system-Pluto.txt\n",
      "#8-Our solar system-Neptune.txt\n",
      "#6-Our solar system-Jupiter.txt\n",
      "#9-Our solar system-Uranus.txt\n",
      "#4-Our solar system-Earth.txt\n",
      "#7-Our solar system-Saturn.txt\n",
      "#1-Our solar system-The Sun.txt\n"
     ]
    }
   ],
   "source": [
    "for f in os.listdir():\n",
    "    f_name, f_ext =(os.path.splitext(f))\n",
    "    f_title, f_course, f_num = f_name.split('-')\n",
    "    \n",
    "    f_title = f_title.strip()\n",
    "    f_course = f_course.strip()\n",
    "    f_num = f_num.strip()\n",
    "    \n",
    "    print('{}-{}-{}{}'.format(f_num, f_course, f_title, f_ext))"
   ]
  },
  {
   "cell_type": "code",
   "execution_count": 26,
   "id": "34998835",
   "metadata": {},
   "outputs": [
    {
     "name": "stdout",
     "output_type": "stream",
     "text": [
      "3-Our solar system-Venus.txt\n",
      "2-Our solar system-Mercury.txt\n",
      "5-Our solar system-Mars.txt\n",
      "10-Our solar system-Pluto.txt\n",
      "8-Our solar system-Neptune.txt\n",
      "6-Our solar system-Jupiter.txt\n",
      "9-Our solar system-Uranus.txt\n",
      "4-Our solar system-Earth.txt\n",
      "7-Our solar system-Saturn.txt\n",
      "1-Our solar system-The Sun.txt\n"
     ]
    }
   ],
   "source": [
    "for f in os.listdir():\n",
    "    f_name, f_ext =(os.path.splitext(f))\n",
    "    f_title, f_course, f_num = f_name.split('-')\n",
    "    \n",
    "    f_title = f_title.strip()\n",
    "    f_course = f_course.strip()\n",
    "    f_num = f_num.strip()[1:]\n",
    "    \n",
    "    print('{}-{}-{}{}'.format(f_num, f_course, f_title, f_ext))"
   ]
  },
  {
   "cell_type": "code",
   "execution_count": 27,
   "id": "b1d2467a",
   "metadata": {},
   "outputs": [
    {
     "name": "stdout",
     "output_type": "stream",
     "text": [
      "03-Our solar system-Venus.txt\n",
      "02-Our solar system-Mercury.txt\n",
      "05-Our solar system-Mars.txt\n",
      "10-Our solar system-Pluto.txt\n",
      "08-Our solar system-Neptune.txt\n",
      "06-Our solar system-Jupiter.txt\n",
      "09-Our solar system-Uranus.txt\n",
      "04-Our solar system-Earth.txt\n",
      "07-Our solar system-Saturn.txt\n",
      "01-Our solar system-The Sun.txt\n"
     ]
    }
   ],
   "source": [
    "for f in os.listdir():\n",
    "    f_name, f_ext =(os.path.splitext(f))\n",
    "    f_title, f_course, f_num = f_name.split('-')\n",
    "    \n",
    "    f_title = f_title.strip()\n",
    "    f_course = f_course.strip()\n",
    "    f_num = f_num.strip()[1:].zfill(2)\n",
    "    \n",
    "    print('{}-{}-{}{}'.format(f_num, f_course, f_title, f_ext))"
   ]
  },
  {
   "cell_type": "code",
   "execution_count": 28,
   "id": "31e00c94",
   "metadata": {},
   "outputs": [
    {
     "name": "stdout",
     "output_type": "stream",
     "text": [
      "03-Venus.txt\n",
      "02-Mercury.txt\n",
      "05-Mars.txt\n",
      "10-Pluto.txt\n",
      "08-Neptune.txt\n",
      "06-Jupiter.txt\n",
      "09-Uranus.txt\n",
      "04-Earth.txt\n",
      "07-Saturn.txt\n",
      "01-The Sun.txt\n"
     ]
    }
   ],
   "source": [
    "for f in os.listdir():\n",
    "    f_name, f_ext =(os.path.splitext(f))\n",
    "    f_title, f_course, f_num = f_name.split('-')\n",
    "    \n",
    "    f_title = f_title.strip()\n",
    "    f_course = f_course.strip()\n",
    "    f_num = f_num.strip()[1:].zfill(2)\n",
    "    \n",
    "    print('{}-{}{}'.format(f_num, f_title, f_ext))"
   ]
  },
  {
   "cell_type": "code",
   "execution_count": 29,
   "id": "c5fb571b",
   "metadata": {},
   "outputs": [],
   "source": [
    "for f in os.listdir():\n",
    "    f_name, f_ext =(os.path.splitext(f))\n",
    "    f_title, f_course, f_num = f_name.split('-')\n",
    "    \n",
    "    f_title = f_title.strip()\n",
    "    f_course = f_course.strip()\n",
    "    f_num = f_num.strip()[1:].zfill(2)\n",
    "    \n",
    "    new_name ='{}-{}{}'.format(f_num, f_title, f_ext)\n",
    "    \n",
    "    os.rename(f, new_name)"
   ]
  },
  {
   "cell_type": "code",
   "execution_count": 30,
   "id": "0fb1d7b5",
   "metadata": {},
   "outputs": [
    {
     "name": "stdout",
     "output_type": "stream",
     "text": [
      "06-Jupiter.txt\n",
      "10-Pluto.txt\n",
      "02-Mercury.txt\n",
      "08-Neptune.txt\n",
      "03-Venus.txt\n",
      "04-Earth.txt\n",
      "07-Saturn.txt\n",
      "09-Uranus.txt\n",
      "05-Mars.txt\n",
      "01-The Sun.txt\n"
     ]
    }
   ],
   "source": [
    "for f in os.listdir():\n",
    "    print(f)"
   ]
  },
  {
   "cell_type": "code",
   "execution_count": null,
   "id": "59869fe5",
   "metadata": {},
   "outputs": [],
   "source": []
  }
 ],
 "metadata": {
  "kernelspec": {
   "display_name": "Python 3.8.8 64-bit ('base': conda)",
   "language": "python",
   "name": "python388jvsc74a57bd08249976018b44d3e50e6035bd94aafb2e264aa7799b8bde7936e85a6320f4fe8"
  },
  "language_info": {
   "codemirror_mode": {
    "name": "ipython",
    "version": 3
   },
   "file_extension": ".py",
   "mimetype": "text/x-python",
   "name": "python",
   "nbconvert_exporter": "python",
   "pygments_lexer": "ipython3",
   "version": "3.8.8"
  }
 },
 "nbformat": 4,
 "nbformat_minor": 5
}
